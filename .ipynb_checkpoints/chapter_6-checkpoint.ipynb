{
 "cells": [
  {
   "cell_type": "markdown",
   "metadata": {},
   "source": [
    "# RNN\n",
    "\n",
    "### LSTM and GRU"
   ]
  },
  {
   "cell_type": "markdown",
   "metadata": {},
   "source": [
    "generating text"
   ]
  },
  {
   "cell_type": "code",
   "execution_count": 29,
   "metadata": {},
   "outputs": [],
   "source": [
    "from __future__ import print_function\n",
    "from keras.layers import Dense , Activation\n",
    "from keras.layers.recurrent import SimpleRNN\n",
    "from keras.models import Sequential\n",
    "from keras.utils.vis_utils import plot_model\n",
    "import numpy as np"
   ]
  },
  {
   "cell_type": "code",
   "execution_count": 7,
   "metadata": {},
   "outputs": [],
   "source": [
    "data_file  = open(\"11-0.txt\",'rb')\n",
    "lines =[]\n",
    "for line in data_file:\n",
    "    line = line.strip().lower()\n",
    "    line = line.decode(\"ascii\", \"ignore\")\n",
    "    if len(line) == 0:\n",
    "           continue\n",
    "    lines.append(line)\n",
    "data_file.close()\n",
    "text = \" \".join(lines)"
   ]
  },
  {
   "cell_type": "code",
   "execution_count": 10,
   "metadata": {},
   "outputs": [],
   "source": [
    "chars = set([c for c in text])\n",
    "nb_chars = len(chars)\n",
    "chars2index = dict((c,i) for i,c in enumerate(chars))\n",
    "index2chars = dict((i,c) for i,c in enumerate(chars))"
   ]
  },
  {
   "cell_type": "code",
   "execution_count": 17,
   "metadata": {},
   "outputs": [],
   "source": [
    "SEQLEN = 10\n",
    "STEP   = 1\n",
    "input_chars = []\n",
    "label_chars = []\n",
    "for i in range(0,len(text)-SEQLEN , STEP):\n",
    "    input_chars.append(text[i:i + SEQLEN])\n",
    "    label_chars.append(text[i + SEQLEN])\n",
    "    "
   ]
  },
  {
   "cell_type": "code",
   "execution_count": 19,
   "metadata": {},
   "outputs": [
    {
     "data": {
      "text/plain": [
       "(u'project gu', u't')"
      ]
     },
     "execution_count": 19,
     "metadata": {},
     "output_type": "execute_result"
    }
   ],
   "source": [
    "input_chars[0],label_chars[0]"
   ]
  },
  {
   "cell_type": "code",
   "execution_count": 22,
   "metadata": {},
   "outputs": [],
   "source": [
    "X = np.zeros((len(input_chars), SEQLEN, nb_chars), dtype=np.bool)\n",
    "y = np.zeros((len(input_chars), nb_chars), dtype=np.bool)\n",
    "for i, input_char in enumerate(input_chars):\n",
    "        for j, ch in enumerate(input_char):\n",
    "            X[i, j, chars2index[ch]] = 1\n",
    "        y[i, chars2index[label_chars[i]]] = 1\n"
   ]
  },
  {
   "cell_type": "code",
   "execution_count": null,
   "metadata": {},
   "outputs": [],
   "source": []
  },
  {
   "cell_type": "code",
   "execution_count": 25,
   "metadata": {},
   "outputs": [],
   "source": [
    "HIDDEN_SIZE = 128\n",
    "BATCH_SIZE = 128\n",
    "NUM_ITERATIONS = 25\n",
    "NUM_EPOCHS_PER_ITERATION = 1\n",
    "NUM_PREDS_PER_EPOCH = 100"
   ]
  },
  {
   "cell_type": "code",
   "execution_count": 27,
   "metadata": {},
   "outputs": [],
   "source": [
    "model = Sequential()\n",
    "model.add(SimpleRNN(HIDDEN_SIZE, return_sequences=False,input_shape=(SEQLEN, nb_chars),\n",
    "           unroll=True))\n",
    "model.add(Dense(nb_chars))\n",
    "model.add(Activation(\"softmax\"))\n",
    "model.compile(loss=\"categorical_crossentropy\",optimizer=\"rmsprop\")"
   ]
  },
  {
   "cell_type": "code",
   "execution_count": 32,
   "metadata": {},
   "outputs": [
    {
     "name": "stdout",
     "output_type": "stream",
     "text": [
      "==================================================\n",
      "Iteration #: 0\n",
      "Epoch 1/1\n",
      "158773/158773 [==============================] - 8s 51us/step - loss: 1.9362\n",
      "Generating from seed: while in s\n",
      "while in she had hare the mous the mous the mous the mous the mous the mous the mous the mous the mous the mou\n",
      "==================================================\n",
      "Iteration #: 1\n",
      "Epoch 1/1\n",
      "158773/158773 [==============================] - 8s 52us/step - loss: 1.8550\n",
      "Generating from seed:  there wer\n",
      " there were the pook of the pook of the pook of the pook of the pook of the pook of the pook of the pook of th\n",
      "==================================================\n",
      "Iteration #: 2\n",
      "Epoch 1/1\n",
      "158773/158773 [==============================] - 8s 52us/step - loss: 1.7904\n",
      "Generating from seed: ng the lea\n",
      "ng the leas it a coust it was the could the mouse the could the mouse the could the mouse the could the mouse \n",
      "==================================================\n",
      "Iteration #: 3\n",
      "Epoch 1/1\n",
      "158773/158773 [==============================] - 8s 51us/step - loss: 1.7386\n",
      "Generating from seed: he project\n",
      "he project gutenberg-tm encersation as it and the doon as the catting it a dore the liget it on the project gu\n",
      "==================================================\n",
      "Iteration #: 4\n",
      "Epoch 1/1\n",
      "158773/158773 [==============================] - 8s 50us/step - loss: 1.6942\n",
      "Generating from seed: to the hea\n",
      "to the hear whith a she was the grown the was a little be a little be a little be a little be a little be a li\n",
      "==================================================\n",
      "Iteration #: 5\n",
      "Epoch 1/1\n",
      "158773/158773 [==============================] - 8s 51us/step - loss: 1.6565\n",
      "Generating from seed: thing. per\n",
      "thing. persed to the dormouse was the dormouse was the dormouse was the dormouse was the dormouse was the dorm\n",
      "==================================================\n",
      "Iteration #: 6\n",
      "Epoch 1/1\n",
      "158773/158773 [==============================] - 8s 51us/step - loss: 1.6249\n",
      "Generating from seed: ike a stal\n",
      "ike a stall on the project gutenberg-tm electronic work in a tone of the mouse, and the mouse, and the mouse, \n",
      "==================================================\n",
      "Iteration #: 7\n",
      "Epoch 1/1\n",
      "158773/158773 [==============================] - 8s 51us/step - loss: 1.5965\n",
      "Generating from seed: would be w\n",
      "would be was the rabbit said the mock turtle said the mock turtle said the mock turtle said the mock turtle sa\n",
      "==================================================\n",
      "Iteration #: 8\n",
      "Epoch 1/1\n",
      "158773/158773 [==============================] - 8s 51us/step - loss: 1.5729\n",
      "Generating from seed: isclaimers\n",
      "isclaimers and the mouse, and she was not in a little this the project gutenberg-tm electronic work in a littl\n",
      "==================================================\n",
      "Iteration #: 9\n",
      "Epoch 1/1\n",
      "158773/158773 [==============================] - 8s 51us/step - loss: 1.5506\n",
      "Generating from seed:  ever saw \n",
      " ever saw you do not to ereation of the caterpillar was and the mouse the rabbit with a she had no as it was o\n",
      "==================================================\n",
      "Iteration #: 10\n",
      "Epoch 1/1\n",
      "158773/158773 [==============================] - 8s 52us/step - loss: 1.5314\n",
      "Generating from seed: alice, bec\n",
      "alice, because to begin in the could in the mouse with the could in the mouse with the could in the mouse with\n",
      "==================================================\n",
      "Iteration #: 11\n",
      "Epoch 1/1\n",
      "158773/158773 [==============================] - 8s 51us/step - loss: 1.5148\n",
      "Generating from seed: fan and th\n",
      "fan and the gryphon and her for the was a little good a were of the was a little good a were of the was a litt\n",
      "==================================================\n",
      "Iteration #: 12\n",
      "Epoch 1/1\n",
      "158773/158773 [==============================] - 8s 52us/step - loss: 1.4979\n",
      "Generating from seed: ng to the \n",
      "ng to the project gutenberg-tm electronic works of the project gutenberg-tm electronic works of the project gu\n",
      "==================================================\n",
      "Iteration #: 13\n",
      "Epoch 1/1\n",
      "158773/158773 [==============================] - 8s 52us/step - loss: 1.4848\n",
      "Generating from seed: le, sudden\n",
      "le, suddenly the rabbit all the caterpillar with the caterpillar with the caterpillar with the caterpillar wit\n",
      "==================================================\n",
      "Iteration #: 14\n",
      "Epoch 1/1\n",
      "158773/158773 [==============================] - 8s 52us/step - loss: 1.4722\n",
      "Generating from seed: said the q\n",
      "said the queen the mouse, and the march hare all the said to herself, and the march hare all the said to herse\n",
      "==================================================\n",
      "Iteration #: 15\n",
      "Epoch 1/1\n",
      "158773/158773 [==============================] - 8s 53us/step - loss: 1.4606\n",
      "Generating from seed:  ask. supp\n",
      " ask. suppoure so say a cat again, and she was not the could not in a long said, the project gutenberg-tm elec\n",
      "==================================================\n",
      "Iteration #: 16\n",
      "Epoch 1/1\n",
      "158773/158773 [==============================] - 8s 53us/step - loss: 1.4496\n",
      "Generating from seed: yphon, lyi\n",
      "yphon, lyin with a soll the words of the caterpillar some time the book it was got said the mock turtle said t\n",
      "==================================================\n",
      "Iteration #: 17\n",
      "Epoch 1/1\n",
      "158773/158773 [==============================] - 8s 53us/step - loss: 1.4404\n",
      "Generating from seed: empted to \n",
      "empted to the gryphon as it was the rabbit alice was no her fell the hatter was a little the caterpillar with \n",
      "==================================================\n",
      "Iteration #: 18\n",
      "Epoch 1/1\n",
      "158773/158773 [==============================] - 9s 54us/step - loss: 1.4309\n",
      "Generating from seed: oldest rul\n",
      "oldest rulled and the mouse was going to her sime to the took and the mouse was going to her sime to the took \n",
      "==================================================\n",
      "Iteration #: 19\n",
      "Epoch 1/1\n",
      "158773/158773 [==============================] - 9s 55us/step - loss: 1.4229\n",
      "Generating from seed: sing. it i\n",
      "sing. it is the was and the was and the was and the was and the was and the was and the was and the was and th\n",
      "==================================================\n",
      "Iteration #: 20\n",
      "Epoch 1/1\n",
      "158773/158773 [==============================] - 9s 55us/step - loss: 1.4162\n",
      "Generating from seed:  beginning\n",
      " beginning to the door alice was a little bott the mock turtle said to the door alice was a little bott the mo\n",
      "==================================================\n",
      "Iteration #: 21\n",
      "Epoch 1/1\n",
      "158773/158773 [==============================] - 9s 55us/step - loss: 1.4090\n",
      "Generating from seed: ent--at le\n",
      "ent--at least to see the mouse down and she had been it was a little she had been it was a little she had been\n",
      "==================================================\n",
      "Iteration #: 22\n",
      "Epoch 1/1\n",
      "158773/158773 [==============================] - 9s 56us/step - loss: 1.4019\n",
      "Generating from seed: ice very p\n",
      "ice very puchess and she was not to down on the way a little ball and the other said to herself, and the way a\n",
      "==================================================\n",
      "Iteration #: 23\n",
      "Epoch 1/1\n",
      "158773/158773 [==============================] - 9s 56us/step - loss: 1.3958\n",
      "Generating from seed: n a large \n",
      "n a large as she was not to do again, and she was not to do again, and she was not to do again, and she was no\n",
      "==================================================\n",
      "Iteration #: 24\n",
      "Epoch 1/1\n",
      "158773/158773 [==============================] - 9s 56us/step - loss: 1.3903\n",
      "Generating from seed: ck turtle \n",
      "ck turtle said the caterpillar.  the foundation about a sorp and said the caterpillar.  the foundation about a\n"
     ]
    }
   ],
   "source": [
    "for iteration in range(NUM_ITERATIONS):\n",
    "    print(\"=\" * 50)\n",
    "    print(\"Iteration #: %d\" % (iteration))\n",
    "    model.fit(X, y, batch_size=BATCH_SIZE, epochs=NUM_EPOCHS_PER_ITERATION)\n",
    "    \n",
    "    # testing model\n",
    "    # randomly choose a row from input_chars, then use it to \n",
    "    # generate text from model for next 100 chars\n",
    "    test_idx = np.random.randint(len(input_chars))\n",
    "    test_chars = input_chars[test_idx]\n",
    "    print(\"Generating from seed: %s\" % (test_chars))\n",
    "    print(test_chars, end=\"\")\n",
    "    for i in range(NUM_PREDS_PER_EPOCH):\n",
    "        Xtest = np.zeros((1, SEQLEN, nb_chars))\n",
    "        for i, ch in enumerate(test_chars):\n",
    "            Xtest[0, i, chars2index[ch]] = 1\n",
    "        pred = model.predict(Xtest, verbose=0)[0]\n",
    "        ypred = index2chars[np.argmax(pred)]\n",
    "        print(ypred, end=\"\")\n",
    "        # move forward with test_chars + ypred\n",
    "        test_chars = test_chars[1:] + ypred\n",
    "    print()\n"
   ]
  },
  {
   "cell_type": "code",
   "execution_count": null,
   "metadata": {},
   "outputs": [],
   "source": []
  }
 ],
 "metadata": {
  "kernelspec": {
   "display_name": "Python 2",
   "language": "python",
   "name": "python2"
  },
  "language_info": {
   "codemirror_mode": {
    "name": "ipython",
    "version": 2
   },
   "file_extension": ".py",
   "mimetype": "text/x-python",
   "name": "python",
   "nbconvert_exporter": "python",
   "pygments_lexer": "ipython2",
   "version": "2.7.15"
  }
 },
 "nbformat": 4,
 "nbformat_minor": 2
}
