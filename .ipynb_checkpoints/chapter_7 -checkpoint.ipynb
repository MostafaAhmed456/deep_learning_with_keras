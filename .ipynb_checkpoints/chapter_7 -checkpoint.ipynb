{
 "cells": [
  {
   "cell_type": "markdown",
   "metadata": {},
   "source": [
    "# memory network for question answering"
   ]
  },
  {
   "cell_type": "code",
   "execution_count": 66,
   "metadata": {},
   "outputs": [],
   "source": [
    "from keras.layers import Input\n",
    "from keras.layers.core import Activation,Dropout,Permute,Dense\n",
    "from keras.layers.embeddings import Embedding\n",
    "from keras.layers.merge import add,concatenate, dot\n",
    "from keras.layers.recurrent import LSTM\n",
    "from keras.models import Model\n",
    "from keras.preprocessing.sequence import pad_sequences\n",
    "from keras.utils import np_utils\n",
    "import collections\n",
    "import itertools\n",
    "import nltk\n",
    "import numpy as np\n",
    "import matplotlib.pyplot as plt\n",
    "import os"
   ]
  },
  {
   "cell_type": "code",
   "execution_count": 26,
   "metadata": {},
   "outputs": [],
   "source": [
    "train_file = \"qa1_single-supporting-fact_train.txt\"\n",
    "test_file = \"qa1_single-supporting-fact_test.txt\""
   ]
  },
  {
   "cell_type": "code",
   "execution_count": 29,
   "metadata": {},
   "outputs": [],
   "source": [
    "def get_data(infile):\n",
    "    stories, questions, answers = [], [], []\n",
    "    story_text = []\n",
    "    fin = open(infile, \"rb\")\n",
    "    for line in fin:\n",
    "        line = line.decode(\"utf-8\").strip()\n",
    "        lno, text = line.split(\" \", 1)\n",
    "        if \"\\t\" in text:\n",
    "            question, answer, _ = text.split(\"\\t\")\n",
    "            stories.append(story_text)\n",
    "            questions.append(question)\n",
    "            answers.append(answer)\n",
    "            story_text = []\n",
    "             \n",
    "        else:\n",
    "            story_text.append(text)\n",
    "    fin.close()\n",
    "    return stories, questions, answers\n",
    "data_train = get_data(train_file)\n",
    "data_test = get_data(test_file)"
   ]
  },
  {
   "cell_type": "code",
   "execution_count": 35,
   "metadata": {},
   "outputs": [],
   "source": [
    "def build_vocab(train_data, test_data):\n",
    "    counter = collections.Counter()\n",
    "    for stories, questions, answers in [train_data, test_data]:\n",
    "        for story in stories:\n",
    "            for sent in story:\n",
    "                for word in nltk.word_tokenize(sent):\n",
    "                    counter[word.lower()] += 1\n",
    "        for question in questions:\n",
    "            for word in nltk.word_tokenize(question):\n",
    "                counter[word.lower()] += 1\n",
    "        for answer in answers:\n",
    "            for word in nltk.word_tokenize(answer):\n",
    "                counter[word.lower()] += 1\n",
    "    # no OOV here because there are not too many words in dataset\n",
    "    word2idx = {w:(i+1) for i, (w, _) in enumerate(counter.most_common())}\n",
    "    word2idx[\"PAD\"] = 0\n",
    "    idx2word = {v:k for k, v in word2idx.items()}\n",
    "    return word2idx, idx2word"
   ]
  },
  {
   "cell_type": "code",
   "execution_count": 39,
   "metadata": {},
   "outputs": [],
   "source": [
    "word2idx, idx2word = build_vocab(data_train,data_test)"
   ]
  },
  {
   "cell_type": "code",
   "execution_count": 41,
   "metadata": {},
   "outputs": [],
   "source": [
    "def get_maxlens(train_data, test_data):\n",
    "    story_maxlen, question_maxlen = 0, 0\n",
    "    for stories, questions, _ in [train_data, test_data]:\n",
    "        for story in stories:\n",
    "            story_len = 0\n",
    "            for sent in story:\n",
    "                swords = nltk.word_tokenize(sent)\n",
    "                story_len += len(swords)\n",
    "            if story_len > story_maxlen:\n",
    "                story_maxlen = story_len\n",
    "        for question in questions:\n",
    "            question_len = len(nltk.word_tokenize(question))\n",
    "            if question_len > question_maxlen:\n",
    "                question_maxlen = question_len\n",
    "    return story_maxlen, question_maxlen"
   ]
  },
  {
   "cell_type": "code",
   "execution_count": 42,
   "metadata": {},
   "outputs": [],
   "source": [
    "story_maxlen, question_maxlen = get_maxlens(data_train, data_test)"
   ]
  },
  {
   "cell_type": "code",
   "execution_count": 44,
   "metadata": {},
   "outputs": [],
   "source": [
    "def vectorize(data, word2idx, story_maxlen, question_maxlen):\n",
    "    Xs, Xq, Y = [], [], []\n",
    "    stories, questions, answers = data\n",
    "    for story, question, answer in zip(stories, questions, answers):\n",
    "        xs = [[word2idx[w.lower()] for w in nltk.word_tokenize(s)] \n",
    "                                   for s in story]\n",
    "        xs = list(itertools.chain.from_iterable(xs))\n",
    "        xq = [word2idx[w.lower()] for w in nltk.word_tokenize(question)]\n",
    "        Xs.append(xs)\n",
    "        Xq.append(xq)\n",
    "        Y.append(word2idx[answer.lower()])\n",
    "    return pad_sequences(Xs, maxlen=story_maxlen),\\\n",
    "           pad_sequences(Xq, maxlen=question_maxlen),\\\n",
    "           np_utils.to_categorical(Y, num_classes=len(word2idx))"
   ]
  },
  {
   "cell_type": "code",
   "execution_count": 49,
   "metadata": {},
   "outputs": [],
   "source": [
    "Xstrain, Xqtrain, Ytrain = vectorize(data_train, word2idx, story_maxlen, question_maxlen)\n",
    "Xstest, Xqtest, Ytest    = vectorize(data_test, word2idx, story_maxlen, question_maxlen)"
   ]
  },
  {
   "cell_type": "code",
   "execution_count": 67,
   "metadata": {},
   "outputs": [
    {
     "name": "stdout",
     "output_type": "stream",
     "text": [
      "Train on 10000 samples, validate on 1000 samples\n",
      "Epoch 1/10\n",
      "10000/10000 [==============================] - 2s 201us/step - loss: 2.0098 - acc: 0.1887 - val_loss: 1.6930 - val_acc: 0.2730\n",
      "Epoch 2/10\n",
      "10000/10000 [==============================] - 1s 104us/step - loss: 1.6992 - acc: 0.2683 - val_loss: 1.6609 - val_acc: 0.2910\n",
      "Epoch 3/10\n",
      "10000/10000 [==============================] - 1s 98us/step - loss: 1.6400 - acc: 0.3133 - val_loss: 1.5963 - val_acc: 0.3750\n",
      "Epoch 4/10\n",
      "10000/10000 [==============================] - 1s 96us/step - loss: 1.5777 - acc: 0.3850 - val_loss: 1.5370 - val_acc: 0.4890\n",
      "Epoch 5/10\n",
      "10000/10000 [==============================] - 1s 97us/step - loss: 1.5074 - acc: 0.4547 - val_loss: 1.4744 - val_acc: 0.5000\n",
      "Epoch 6/10\n",
      "10000/10000 [==============================] - 1s 95us/step - loss: 1.4580 - acc: 0.4918 - val_loss: 1.4273 - val_acc: 0.5080\n",
      "Epoch 7/10\n",
      "10000/10000 [==============================] - 1s 96us/step - loss: 1.4134 - acc: 0.5055 - val_loss: 1.3843 - val_acc: 0.5150\n",
      "Epoch 8/10\n",
      "10000/10000 [==============================] - 1s 96us/step - loss: 1.3790 - acc: 0.5161 - val_loss: 1.3567 - val_acc: 0.5200\n",
      "Epoch 9/10\n",
      "10000/10000 [==============================] - 1s 95us/step - loss: 1.3501 - acc: 0.5167 - val_loss: 1.3436 - val_acc: 0.5260\n",
      "Epoch 10/10\n",
      "10000/10000 [==============================] - 1s 95us/step - loss: 1.3282 - acc: 0.5195 - val_loss: 1.3264 - val_acc: 0.5240\n"
     ]
    }
   ],
   "source": [
    "vocab_size = len(word2idx)\n",
    "EMBEDDING_SIZE = 64\n",
    "LATENT_SIZE = 32\n",
    "BATCH_SIZE = 64\n",
    "NUM_EPOCHS = 10\n",
    "\n",
    "# inputs\n",
    "story_input = Input(shape=(story_maxlen,))\n",
    "question_input = Input(shape=(question_maxlen,))\n",
    "\n",
    "# story encoder memory\n",
    "story_encoder = Embedding(input_dim=vocab_size,\n",
    "                         output_dim=EMBEDDING_SIZE,\n",
    "                         input_length=story_maxlen)(story_input)\n",
    "story_encoder = Dropout(0.3)(story_encoder)\n",
    "\n",
    "# question encoder\n",
    "question_encoder = Embedding(input_dim=vocab_size,\n",
    "                            output_dim=EMBEDDING_SIZE,\n",
    "                            input_length=question_maxlen)(question_input)\n",
    "question_encoder = Dropout(0.3)(question_encoder)\n",
    "\n",
    "# match between story and question\n",
    "match = dot([story_encoder, question_encoder], axes=[2, 2])\n",
    "\n",
    "# encode story into vector space of question\n",
    "story_encoder_c = Embedding(input_dim=vocab_size,\n",
    "                           output_dim=question_maxlen,\n",
    "                           input_length=story_maxlen)(story_input)\n",
    "story_encoder_c = Dropout(0.3)(story_encoder_c)\n",
    "\n",
    "# combine match and story vectors\n",
    "response = add([match, story_encoder_c])\n",
    "response = Permute((2, 1))(response)\n",
    "\n",
    "# combine response and question vectors\n",
    "answer = concatenate([response, question_encoder], axis=-1)\n",
    "answer = LSTM(LATENT_SIZE)(answer)\n",
    "answer = Dropout(0.3)(answer)\n",
    "answer = Dense(vocab_size)(answer)\n",
    "output = Activation(\"softmax\")(answer)\n",
    "\n",
    "model = Model(inputs=[story_input, question_input], outputs=output)\n",
    "model.compile(optimizer=\"rmsprop\", loss=\"categorical_crossentropy\",\n",
    "              metrics=[\"accuracy\"])\n",
    "\n",
    "# train model\n",
    "history = model.fit([Xstrain, Xqtrain], [Ytrain], batch_size=BATCH_SIZE, \n",
    "                    epochs=NUM_EPOCHS,\n",
    "                    validation_data=([Xstest, Xqtest], [Ytest]))"
   ]
  },
  {
   "cell_type": "code",
   "execution_count": 68,
   "metadata": {},
   "outputs": [
    {
     "data": {
      "image/png": "[encoded data removed]",
      "text/plain": [
       "<Figure size 432x288 with 2 Axes>"
      ]
     },
     "metadata": {},
     "output_type": "display_data"
    }
   ],
   "source": [
    "plt.subplot(211)\n",
    "plt.title(\"Accuracy\")\n",
    "plt.plot(history.history[\"acc\"], color=\"g\", label=\"train\")\n",
    "plt.plot(history.history[\"val_acc\"], color=\"b\", label=\"validation\")\n",
    "plt.legend(loc=\"best\")\n",
    "\n",
    "plt.subplot(212)\n",
    "plt.title(\"Loss\")\n",
    "plt.plot(history.history[\"loss\"], color=\"g\", label=\"train\")\n",
    "plt.plot(history.history[\"val_loss\"], color=\"b\", label=\"validation\")\n",
    "plt.legend(loc=\"best\")\n",
    "\n",
    "plt.tight_layout()\n",
    "plt.show()"
   ]
  },
  {
   "cell_type": "code",
   "execution_count": 69,
   "metadata": {},
   "outputs": [
    {
     "name": "stdout",
     "output_type": "stream",
     "text": [
      "(u'john travelled to the hallway . mary journeyed to the bathroom .', u'where is john ?', u'hallway', u'bathroom')\n",
      "(u'daniel went back to the bathroom . john moved to the bedroom .', u'where is mary ?', u'bathroom', u'bedroom')\n",
      "(u'john went to the hallway . sandra journeyed to the kitchen .', u'where is sandra ?', u'kitchen', u'kitchen')\n",
      "(u'sandra travelled to the hallway . john went to the garden .', u'where is sandra ?', u'hallway', u'garden')\n",
      "(u'sandra went back to the bathroom . sandra moved to the kitchen .', u'where is sandra ?', u'kitchen', u'kitchen')\n",
      "(u'sandra travelled to the kitchen . sandra travelled to the hallway .', u'where is sandra ?', u'hallway', u'hallway')\n",
      "(u'mary went to the bathroom . sandra moved to the garden .', u'where is sandra ?', u'garden', u'garden')\n",
      "(u'sandra travelled to the office . daniel journeyed to the hallway .', u'where is daniel ?', u'hallway', u'hallway')\n",
      "(u'daniel journeyed to the office . john moved to the hallway .', u'where is sandra ?', u'office', u'hallway')\n",
      "(u'john travelled to the bathroom . john journeyed to the office .', u'where is daniel ?', u'office', u'office')\n"
     ]
    }
   ],
   "source": [
    "ytest = np.argmax(Ytest, axis=1)\n",
    "\n",
    "# get predictions\n",
    "Ytest_ = model.predict([Xstest, Xqtest])\n",
    "ytest_ = np.argmax(Ytest_, axis=1)\n",
    "\n",
    "NUM_DISPLAY = 10\n",
    "\n",
    "for i in range(NUM_DISPLAY):\n",
    "    story = \" \".join([idx2word[x] for x in Xstest[i].tolist() if x != 0])\n",
    "    question = \" \".join([idx2word[x] for x in Xqtest[i].tolist()])\n",
    "    label = idx2word[ytest[i]]\n",
    "    prediction = idx2word[ytest_[i]]\n",
    "    print(story, question, label, prediction)\n"
   ]
  },
  {
   "cell_type": "code",
   "execution_count": null,
   "metadata": {},
   "outputs": [],
   "source": []
  },
  {
   "cell_type": "code",
   "execution_count": null,
   "metadata": {},
   "outputs": [],
   "source": []
  },
  {
   "cell_type": "code",
   "execution_count": null,
   "metadata": {},
   "outputs": [],
   "source": []
  },
  {
   "cell_type": "code",
   "execution_count": null,
   "metadata": {},
   "outputs": [],
   "source": []
  }
 ],
 "metadata": {
  "kernelspec": {
   "display_name": "Python 2",
   "language": "python",
   "name": "python2"
  },
  "language_info": {
   "codemirror_mode": {
    "name": "ipython",
    "version": 2
   },
   "file_extension": ".py",
   "mimetype": "text/x-python",
   "name": "python",
   "nbconvert_exporter": "python",
   "pygments_lexer": "ipython2",
   "version": "2.7.15"
  }
 },
 "nbformat": 4,
 "nbformat_minor": 2
}
