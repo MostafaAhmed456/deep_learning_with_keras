{
 "cells": [
  {
   "cell_type": "markdown",
   "metadata": {},
   "source": [
    "   # chapter 2 summary"
   ]
  },
  {
   "cell_type": "markdown",
   "metadata": {},
   "source": [
    "######  Keras can use tensorflow or theano as a backend , so you need to install one of them ."
   ]
  },
  {
   "cell_type": "markdown",
   "metadata": {},
   "source": [
    "## installation"
   ]
  },
  {
   "cell_type": "markdown",
   "metadata": {},
   "source": [
    "1- install tensorflow , theano and keras "
   ]
  },
  {
   "cell_type": "markdown",
   "metadata": {},
   "source": [
    "- pip install theano \n",
    "- pip install keras \n",
    "- follow instructions here to install tensorflow https://www.tensorflow.org/versions/r0.11/get_started/os_setup.html#pip-in stallation"
   ]
  },
  {
   "cell_type": "markdown",
   "metadata": {},
   "source": [
    "2- install necessary packages "
   ]
  },
  {
   "cell_type": "markdown",
   "metadata": {},
   "source": [
    "- pip install scipy scikit-learn h5py pillow "
   ]
  },
  {
   "cell_type": "markdown",
   "metadata": {},
   "source": [
    "## Getting started with Keras architecture\n"
   ]
  },
  {
   "cell_type": "markdown",
   "metadata": {},
   "source": [
    "###### what is tensor ?\n",
    "\n",
    "A tensor is nothing but a multidimensional array or matrix. Both the backends are capable of efficient symbolic computations on tensors, which are the fundamental building blocks for creating neural networks"
   ]
  },
  {
   "cell_type": "markdown",
   "metadata": {},
   "source": [
    "###### types of layers \n",
    "\n",
    "- reqular dense : fully connected neural network layer\n",
    "- recurrent layers : in LSTM and GRU \n",
    "- convolutional and pooling layers : in conv nets"
   ]
  },
  {
   "cell_type": "markdown",
   "metadata": {},
   "source": [
    "###### types of regularization \n",
    "\n",
    "- kernal_regularizer : applied to weight martix\n",
    "- bias_regularizer   : applied to bias vector\n",
    "- activity_regularizer : applied to the output of the layer (its activation)"
   ]
  },
  {
   "cell_type": "markdown",
   "metadata": {},
   "source": [
    "###### types of activation functions\n",
    "\n",
    "- sigmoid\n",
    "- linear\n",
    "- relu\n",
    "- hyperbolic tangent"
   ]
  },
  {
   "cell_type": "markdown",
   "metadata": {},
   "source": [
    "##### types of loss function\n",
    "\n",
    "- accuracy : which is used in classification problems ,can be classified to \n",
    "       1- binary_accuracy : mean accuracy rate across all predictions for binary classification problems\n",
    "       2- categorical_accuracy : mean accuracy rate across all predictions for multiclass classification problems\n",
    "       3- sparse_accuracy \n",
    "       4- top_k_accuracy\n",
    "- Error loss : difference between the values predicted and the values actually observed\n",
    "- hinge loss : which is generally used for training classifiers. There are two versions: hinge defined as max(1-y_true*y_predicted,0)  and squared hinge defined as the the squared value of the hinge loss.\n",
    "- Class loss : is used to calculate the cross-entropy for classification problems"
   ]
  },
  {
   "cell_type": "markdown",
   "metadata": {},
   "source": [
    "###### types of optimizers\n",
    "\n",
    "- SGD\n",
    "- RMSprob\n",
    "- Adam "
   ]
  },
  {
   "cell_type": "markdown",
   "metadata": {},
   "source": [
    "## Saving and loading the weights and the architecture of a model"
   ]
  },
  {
   "cell_type": "markdown",
   "metadata": {},
   "source": [
    "- save as JSON \n",
    "\n",
    "        json_string = model.to_json()\n",
    "\n",
    "- save as YAML \n",
    "\n",
    "       yaml_string = model.to_yaml()\n",
    "\n",
    "\n",
    "- model reconstruction from JSON\n",
    "\n",
    "      from keras.models import model_from_json\n",
    "\n",
    "      model = model_from_json(json_string)\n",
    "\n",
    "      model = model_from_yaml(yaml_string)\n"
   ]
  },
  {
   "cell_type": "markdown",
   "metadata": {},
   "source": [
    "## Callbacks"
   ]
  },
  {
   "cell_type": "markdown",
   "metadata": {},
   "source": [
    "The training process can be stopped when a metric has stopped improving by using an appropriate callback"
   ]
  },
  {
   "cell_type": "markdown",
   "metadata": {},
   "source": [
    "## Checkpointing"
   ]
  },
  {
   "cell_type": "markdown",
   "metadata": {},
   "source": [
    "Checkpointing is a process that saves a snapshot of the application's state at regular intervals, so the application can be restarted from the last saved state in case of failure. This is useful during training of deep learning models, which can often be a time-consuming task. "
   ]
  },
  {
   "cell_type": "markdown",
   "metadata": {},
   "source": [
    "- from keras.callbacks import ModelCheckpoint\n",
    "-  checkpoint = ModelCheckpoint(filepath=os.path.join(MODEL_DIR, \"model-{epoch:02d}.h5\"))\n",
    "- model.fit(Xtrain, Ytrain, batch_size=BATCH_SIZE, nb_epoch=NUM_EPOCHS,validation_split=0.1, callbacks=[checkpoint])       "
   ]
  },
  {
   "cell_type": "markdown",
   "metadata": {},
   "source": [
    "## Using TensorBoard with keras"
   ]
  },
  {
   "cell_type": "markdown",
   "metadata": {},
   "source": [
    "- keras.callbacks.TensorBoard(log_dir='./logs', histogram_freq=0,write_graph=True, write_images=False)\n",
    "- tensorboard --logdir=/full_path_to_your_logs"
   ]
  },
  {
   "cell_type": "markdown",
   "metadata": {},
   "source": [
    "## Using Quiver with Keras"
   ]
  },
  {
   "cell_type": "markdown",
   "metadata": {},
   "source": [
    "- pip install quiver_engine\n",
    "- from quiver_engine import server\n",
    "- server.launch(model)"
   ]
  },
  {
   "cell_type": "code",
   "execution_count": null,
   "metadata": {},
   "outputs": [],
   "source": []
  }
 ],
 "metadata": {
  "kernelspec": {
   "display_name": "Python 2",
   "language": "python",
   "name": "python2"
  },
  "language_info": {
   "codemirror_mode": {
    "name": "ipython",
    "version": 2
   },
   "file_extension": ".py",
   "mimetype": "text/x-python",
   "name": "python",
   "nbconvert_exporter": "python",
   "pygments_lexer": "ipython2",
   "version": "2.7.15"
  }
 },
 "nbformat": 4,
 "nbformat_minor": 2
}
