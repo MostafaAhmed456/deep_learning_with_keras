{
 "cells": [
  {
   "cell_type": "markdown",
   "metadata": {},
   "source": [
    "# predicting the concentration of benzene in the atmosphere"
   ]
  },
  {
   "cell_type": "markdown",
   "metadata": {},
   "source": [
    "predicting the concentration of benzene in the atmosphere given some other variables such as concentrations of carbon monoxide, nitrous oxide, and so on in the atmosphere as well as temperature and relative humidity . \n",
    "\n",
    "the dataset used in this task is the air quality dataset from the UCI Machine Learning Repository (https://archive.ics.uci.edu/ml/datasets/Air+Quality)"
   ]
  },
  {
   "cell_type": "code",
   "execution_count": 1,
   "metadata": {},
   "outputs": [
    {
     "name": "stderr",
     "output_type": "stream",
     "text": [
      "/anaconda2/lib/python2.7/site-packages/h5py/__init__.py:36: FutureWarning: Conversion of the second argument of issubdtype from `float` to `np.floating` is deprecated. In future, it will be treated as `np.float64 == np.dtype(float).type`.\n",
      "  from ._conv import register_converters as _register_converters\n",
      "Using TensorFlow backend.\n"
     ]
    }
   ],
   "source": [
    "from keras.layers import Input\n",
    "from keras.layers.core import Dense\n",
    "from keras.models import Model\n",
    "from sklearn.preprocessing import StandardScaler\n",
    "import  matplotlib.pyplot  as plt\n",
    "import numpy as np\n",
    "import os\n",
    "import pandas as pd"
   ]
  },
  {
   "cell_type": "code",
   "execution_count": 2,
   "metadata": {},
   "outputs": [],
   "source": [
    "dataset = pd.read_csv(\"AirQualityUCI.csv\",sep=\";\", decimal=\",\")"
   ]
  },
  {
   "cell_type": "markdown",
   "metadata": {},
   "source": [
    "data exploration"
   ]
  },
  {
   "cell_type": "code",
   "execution_count": 3,
   "metadata": {},
   "outputs": [
    {
     "data": {
      "text/plain": [
       "(9471, 17)"
      ]
     },
     "execution_count": 3,
     "metadata": {},
     "output_type": "execute_result"
    }
   ],
   "source": [
    "dataset.shape"
   ]
  },
  {
   "cell_type": "code",
   "execution_count": 4,
   "metadata": {},
   "outputs": [
    {
     "data": {
      "text/plain": [
       "Index([u'Date', u'Time', u'CO(GT)', u'PT08.S1(CO)', u'NMHC(GT)', u'C6H6(GT)',\n",
       "       u'PT08.S2(NMHC)', u'NOx(GT)', u'PT08.S3(NOx)', u'NO2(GT)',\n",
       "       u'PT08.S4(NO2)', u'PT08.S5(O3)', u'T', u'RH', u'AH', u'Unnamed: 15',\n",
       "       u'Unnamed: 16'],\n",
       "      dtype='object')"
      ]
     },
     "execution_count": 4,
     "metadata": {},
     "output_type": "execute_result"
    }
   ],
   "source": [
    "dataset.columns"
   ]
  },
  {
   "cell_type": "code",
   "execution_count": 5,
   "metadata": {},
   "outputs": [
    {
     "data": {
      "text/html": [
       "<div>\n",
       "<style scoped>\n",
       "    .dataframe tbody tr th:only-of-type {\n",
       "        vertical-align: middle;\n",
       "    }\n",
       "\n",
       "    .dataframe tbody tr th {\n",
       "        vertical-align: top;\n",
       "    }\n",
       "\n",
       "    .dataframe thead th {\n",
       "        text-align: right;\n",
       "    }\n",
       "</style>\n",
       "<table border=\"1\" class=\"dataframe\">\n",
       "  <thead>\n",
       "    <tr style=\"text-align: right;\">\n",
       "      <th></th>\n",
       "      <th>Date</th>\n",
       "      <th>Time</th>\n",
       "      <th>CO(GT)</th>\n",
       "      <th>PT08.S1(CO)</th>\n",
       "      <th>NMHC(GT)</th>\n",
       "      <th>C6H6(GT)</th>\n",
       "      <th>PT08.S2(NMHC)</th>\n",
       "      <th>NOx(GT)</th>\n",
       "      <th>PT08.S3(NOx)</th>\n",
       "      <th>NO2(GT)</th>\n",
       "      <th>PT08.S4(NO2)</th>\n",
       "      <th>PT08.S5(O3)</th>\n",
       "      <th>T</th>\n",
       "      <th>RH</th>\n",
       "      <th>AH</th>\n",
       "      <th>Unnamed: 15</th>\n",
       "      <th>Unnamed: 16</th>\n",
       "    </tr>\n",
       "  </thead>\n",
       "  <tbody>\n",
       "    <tr>\n",
       "      <th>0</th>\n",
       "      <td>10/03/2004</td>\n",
       "      <td>18.00.00</td>\n",
       "      <td>2.6</td>\n",
       "      <td>1360.0</td>\n",
       "      <td>150.0</td>\n",
       "      <td>11.9</td>\n",
       "      <td>1046.0</td>\n",
       "      <td>166.0</td>\n",
       "      <td>1056.0</td>\n",
       "      <td>113.0</td>\n",
       "      <td>1692.0</td>\n",
       "      <td>1268.0</td>\n",
       "      <td>13.6</td>\n",
       "      <td>48.9</td>\n",
       "      <td>0.7578</td>\n",
       "      <td>NaN</td>\n",
       "      <td>NaN</td>\n",
       "    </tr>\n",
       "    <tr>\n",
       "      <th>1</th>\n",
       "      <td>10/03/2004</td>\n",
       "      <td>19.00.00</td>\n",
       "      <td>2.0</td>\n",
       "      <td>1292.0</td>\n",
       "      <td>112.0</td>\n",
       "      <td>9.4</td>\n",
       "      <td>955.0</td>\n",
       "      <td>103.0</td>\n",
       "      <td>1174.0</td>\n",
       "      <td>92.0</td>\n",
       "      <td>1559.0</td>\n",
       "      <td>972.0</td>\n",
       "      <td>13.3</td>\n",
       "      <td>47.7</td>\n",
       "      <td>0.7255</td>\n",
       "      <td>NaN</td>\n",
       "      <td>NaN</td>\n",
       "    </tr>\n",
       "    <tr>\n",
       "      <th>2</th>\n",
       "      <td>10/03/2004</td>\n",
       "      <td>20.00.00</td>\n",
       "      <td>2.2</td>\n",
       "      <td>1402.0</td>\n",
       "      <td>88.0</td>\n",
       "      <td>9.0</td>\n",
       "      <td>939.0</td>\n",
       "      <td>131.0</td>\n",
       "      <td>1140.0</td>\n",
       "      <td>114.0</td>\n",
       "      <td>1555.0</td>\n",
       "      <td>1074.0</td>\n",
       "      <td>11.9</td>\n",
       "      <td>54.0</td>\n",
       "      <td>0.7502</td>\n",
       "      <td>NaN</td>\n",
       "      <td>NaN</td>\n",
       "    </tr>\n",
       "    <tr>\n",
       "      <th>3</th>\n",
       "      <td>10/03/2004</td>\n",
       "      <td>21.00.00</td>\n",
       "      <td>2.2</td>\n",
       "      <td>1376.0</td>\n",
       "      <td>80.0</td>\n",
       "      <td>9.2</td>\n",
       "      <td>948.0</td>\n",
       "      <td>172.0</td>\n",
       "      <td>1092.0</td>\n",
       "      <td>122.0</td>\n",
       "      <td>1584.0</td>\n",
       "      <td>1203.0</td>\n",
       "      <td>11.0</td>\n",
       "      <td>60.0</td>\n",
       "      <td>0.7867</td>\n",
       "      <td>NaN</td>\n",
       "      <td>NaN</td>\n",
       "    </tr>\n",
       "  </tbody>\n",
       "</table>\n",
       "</div>"
      ],
      "text/plain": [
       "         Date      Time  CO(GT)  PT08.S1(CO)  NMHC(GT)  C6H6(GT)  \\\n",
       "0  10/03/2004  18.00.00     2.6       1360.0     150.0      11.9   \n",
       "1  10/03/2004  19.00.00     2.0       1292.0     112.0       9.4   \n",
       "2  10/03/2004  20.00.00     2.2       1402.0      88.0       9.0   \n",
       "3  10/03/2004  21.00.00     2.2       1376.0      80.0       9.2   \n",
       "\n",
       "   PT08.S2(NMHC)  NOx(GT)  PT08.S3(NOx)  NO2(GT)  PT08.S4(NO2)  PT08.S5(O3)  \\\n",
       "0         1046.0    166.0        1056.0    113.0        1692.0       1268.0   \n",
       "1          955.0    103.0        1174.0     92.0        1559.0        972.0   \n",
       "2          939.0    131.0        1140.0    114.0        1555.0       1074.0   \n",
       "3          948.0    172.0        1092.0    122.0        1584.0       1203.0   \n",
       "\n",
       "      T    RH      AH  Unnamed: 15  Unnamed: 16  \n",
       "0  13.6  48.9  0.7578          NaN          NaN  \n",
       "1  13.3  47.7  0.7255          NaN          NaN  \n",
       "2  11.9  54.0  0.7502          NaN          NaN  \n",
       "3  11.0  60.0  0.7867          NaN          NaN  "
      ]
     },
     "execution_count": 5,
     "metadata": {},
     "output_type": "execute_result"
    }
   ],
   "source": [
    "dataset.head(4)"
   ]
  },
  {
   "cell_type": "markdown",
   "metadata": {},
   "source": [
    "feauters\n",
    "- 0 Date\t(DD/MM/YYYY) \n",
    "- 1 Time\t(HH.MM.SS) \n",
    "- 2 True hourly averaged concentration CO in mg/m^3 (reference analyzer) \n",
    "- 3 PT08.S1 (tin oxide) hourly averaged sensor response (nominally CO targeted)\t\n",
    "- 4 True hourly averaged overall Non Metanic HydroCarbons concentration in microg/m^3 (reference analyzer) \n",
    "- 5 True hourly averaged Benzene concentration in microg/m^3 (reference analyzer) \n",
    "- 6 PT08.S2 (titania) hourly averaged sensor response (nominally NMHC targeted)\t\n",
    "- 7 True hourly averaged NOx concentration in ppb (reference analyzer) \n",
    "- 8 PT08.S3 (tungsten oxide) hourly averaged sensor response (nominally NOx targeted) \n",
    "- 9 True hourly averaged NO2 concentration in microg/m^3 (reference analyzer)\t\n",
    "- 10 PT08.S4 (tungsten oxide) hourly averaged sensor response (nominally NO2 targeted)\t\n",
    "- 11 PT08.S5 (indium oxide) hourly averaged sensor response (nominally O3 targeted) \n",
    "- 12 Temperature in Â°C\t\n",
    "- 13 Relative Humidity (%) \n",
    "- 14 AH Absolute Humidity \n",
    "\n"
   ]
  },
  {
   "cell_type": "markdown",
   "metadata": {},
   "source": [
    "delete first and last 2 columns"
   ]
  },
  {
   "cell_type": "code",
   "execution_count": 6,
   "metadata": {},
   "outputs": [],
   "source": [
    "del dataset['Date']\n",
    "del dataset['Time']\n",
    "del dataset['Unnamed: 15']\n",
    "del dataset['Unnamed: 16']"
   ]
  },
  {
   "cell_type": "code",
   "execution_count": 7,
   "metadata": {},
   "outputs": [
    {
     "data": {
      "text/html": [
       "<div>\n",
       "<style scoped>\n",
       "    .dataframe tbody tr th:only-of-type {\n",
       "        vertical-align: middle;\n",
       "    }\n",
       "\n",
       "    .dataframe tbody tr th {\n",
       "        vertical-align: top;\n",
       "    }\n",
       "\n",
       "    .dataframe thead th {\n",
       "        text-align: right;\n",
       "    }\n",
       "</style>\n",
       "<table border=\"1\" class=\"dataframe\">\n",
       "  <thead>\n",
       "    <tr style=\"text-align: right;\">\n",
       "      <th></th>\n",
       "      <th>CO(GT)</th>\n",
       "      <th>PT08.S1(CO)</th>\n",
       "      <th>NMHC(GT)</th>\n",
       "      <th>C6H6(GT)</th>\n",
       "      <th>PT08.S2(NMHC)</th>\n",
       "      <th>NOx(GT)</th>\n",
       "      <th>PT08.S3(NOx)</th>\n",
       "      <th>NO2(GT)</th>\n",
       "      <th>PT08.S4(NO2)</th>\n",
       "      <th>PT08.S5(O3)</th>\n",
       "      <th>T</th>\n",
       "      <th>RH</th>\n",
       "      <th>AH</th>\n",
       "    </tr>\n",
       "  </thead>\n",
       "  <tbody>\n",
       "    <tr>\n",
       "      <th>0</th>\n",
       "      <td>2.6</td>\n",
       "      <td>1360.0</td>\n",
       "      <td>150.0</td>\n",
       "      <td>11.9</td>\n",
       "      <td>1046.0</td>\n",
       "      <td>166.0</td>\n",
       "      <td>1056.0</td>\n",
       "      <td>113.0</td>\n",
       "      <td>1692.0</td>\n",
       "      <td>1268.0</td>\n",
       "      <td>13.6</td>\n",
       "      <td>48.9</td>\n",
       "      <td>0.7578</td>\n",
       "    </tr>\n",
       "    <tr>\n",
       "      <th>1</th>\n",
       "      <td>2.0</td>\n",
       "      <td>1292.0</td>\n",
       "      <td>112.0</td>\n",
       "      <td>9.4</td>\n",
       "      <td>955.0</td>\n",
       "      <td>103.0</td>\n",
       "      <td>1174.0</td>\n",
       "      <td>92.0</td>\n",
       "      <td>1559.0</td>\n",
       "      <td>972.0</td>\n",
       "      <td>13.3</td>\n",
       "      <td>47.7</td>\n",
       "      <td>0.7255</td>\n",
       "    </tr>\n",
       "    <tr>\n",
       "      <th>2</th>\n",
       "      <td>2.2</td>\n",
       "      <td>1402.0</td>\n",
       "      <td>88.0</td>\n",
       "      <td>9.0</td>\n",
       "      <td>939.0</td>\n",
       "      <td>131.0</td>\n",
       "      <td>1140.0</td>\n",
       "      <td>114.0</td>\n",
       "      <td>1555.0</td>\n",
       "      <td>1074.0</td>\n",
       "      <td>11.9</td>\n",
       "      <td>54.0</td>\n",
       "      <td>0.7502</td>\n",
       "    </tr>\n",
       "    <tr>\n",
       "      <th>3</th>\n",
       "      <td>2.2</td>\n",
       "      <td>1376.0</td>\n",
       "      <td>80.0</td>\n",
       "      <td>9.2</td>\n",
       "      <td>948.0</td>\n",
       "      <td>172.0</td>\n",
       "      <td>1092.0</td>\n",
       "      <td>122.0</td>\n",
       "      <td>1584.0</td>\n",
       "      <td>1203.0</td>\n",
       "      <td>11.0</td>\n",
       "      <td>60.0</td>\n",
       "      <td>0.7867</td>\n",
       "    </tr>\n",
       "  </tbody>\n",
       "</table>\n",
       "</div>"
      ],
      "text/plain": [
       "   CO(GT)  PT08.S1(CO)  NMHC(GT)  C6H6(GT)  PT08.S2(NMHC)  NOx(GT)  \\\n",
       "0     2.6       1360.0     150.0      11.9         1046.0    166.0   \n",
       "1     2.0       1292.0     112.0       9.4          955.0    103.0   \n",
       "2     2.2       1402.0      88.0       9.0          939.0    131.0   \n",
       "3     2.2       1376.0      80.0       9.2          948.0    172.0   \n",
       "\n",
       "   PT08.S3(NOx)  NO2(GT)  PT08.S4(NO2)  PT08.S5(O3)     T    RH      AH  \n",
       "0        1056.0    113.0        1692.0       1268.0  13.6  48.9  0.7578  \n",
       "1        1174.0     92.0        1559.0        972.0  13.3  47.7  0.7255  \n",
       "2        1140.0    114.0        1555.0       1074.0  11.9  54.0  0.7502  \n",
       "3        1092.0    122.0        1584.0       1203.0  11.0  60.0  0.7867  "
      ]
     },
     "execution_count": 7,
     "metadata": {},
     "output_type": "execute_result"
    }
   ],
   "source": [
    "dataset.head(4)"
   ]
  },
  {
   "cell_type": "markdown",
   "metadata": {},
   "source": [
    "fill nan values"
   ]
  },
  {
   "cell_type": "code",
   "execution_count": 8,
   "metadata": {},
   "outputs": [],
   "source": [
    "dataset= dataset.fillna(dataset.mean())"
   ]
  },
  {
   "cell_type": "code",
   "execution_count": 9,
   "metadata": {},
   "outputs": [
    {
     "name": "stderr",
     "output_type": "stream",
     "text": [
      "/anaconda2/lib/python2.7/site-packages/ipykernel_launcher.py:1: FutureWarning: Method .as_matrix will be removed in a future version. Use .values instead.\n",
      "  \"\"\"Entry point for launching an IPython kernel.\n"
     ]
    }
   ],
   "source": [
    "dataset= dataset.as_matrix()"
   ]
  },
  {
   "cell_type": "markdown",
   "metadata": {},
   "source": [
    "scalling all features to be in the same scale"
   ]
  },
  {
   "cell_type": "code",
   "execution_count": 10,
   "metadata": {},
   "outputs": [],
   "source": [
    "scaler = StandardScaler()\n",
    "dataset =scaler.fit_transform(dataset)"
   ]
  },
  {
   "cell_type": "code",
   "execution_count": 11,
   "metadata": {},
   "outputs": [
    {
     "name": "stdout",
     "output_type": "stream",
     "text": [
      "[ -34.20752378 1048.99006092 -159.09009298    1.86568345  894.59527626\n",
      "  168.61697125  794.99016779   58.1488725  1391.47964091  975.07203163\n",
      "    9.77830501   39.48537993   -6.83760364]\n",
      "[ 77.18426094 327.82412537 138.9378183   41.12821311 340.24854249\n",
      " 255.86616951 320.03270526 126.1674251  464.36495185 454.15556487\n",
      "  42.94052566  50.90425366  38.73931367]\n"
     ]
    }
   ],
   "source": [
    "dataset_mean = scaler.mean_\n",
    "dataset_std  = scaler.scale_\n",
    "\n",
    "print dataset_mean\n",
    "print dataset_std"
   ]
  },
  {
   "cell_type": "code",
   "execution_count": 12,
   "metadata": {},
   "outputs": [],
   "source": [
    "y = dataset[:,3]\n",
    "x = np.delete(dataset , 3,axis=1)"
   ]
  },
  {
   "cell_type": "code",
   "execution_count": 13,
   "metadata": {},
   "outputs": [
    {
     "name": "stdout",
     "output_type": "stream",
     "text": [
      "(9471,)\n",
      "(9471, 12)\n"
     ]
    }
   ],
   "source": [
    "print y.shape\n",
    "print x.shape"
   ]
  },
  {
   "cell_type": "markdown",
   "metadata": {},
   "source": [
    "split dataset to train and test set 70% for training and 30% from testing"
   ]
  },
  {
   "cell_type": "code",
   "execution_count": 14,
   "metadata": {},
   "outputs": [],
   "source": [
    "train_size = int(.7*x.shape[0])\n",
    "x_train , x_test   ,   y_train , y_test =  x[0:train_size],x[train_size:] , y[0:train_size],y[train_size:]"
   ]
  },
  {
   "cell_type": "code",
   "execution_count": 15,
   "metadata": {},
   "outputs": [
    {
     "name": "stdout",
     "output_type": "stream",
     "text": [
      "x train  (6629, 12)\n",
      "y train (6629,)\n",
      "x_test (2842, 12)\n",
      "y_test (2842,)\n"
     ]
    }
   ],
   "source": [
    "print \"x train \",x_train.shape\n",
    "print \"y train\" ,y_train.shape\n",
    "\n",
    "print \"x_test\"  ,x_test.shape\n",
    "print \"y_test\"  ,y_test.shape\n"
   ]
  },
  {
   "cell_type": "markdown",
   "metadata": {},
   "source": [
    "all thing is ready now , let's define our model"
   ]
  },
  {
   "cell_type": "markdown",
   "metadata": {},
   "source": [
    "This is a simple two layer dense network that takes a vector of 12 features as input and outputs a scaled prediction. The hidden dense layer has eight neurons. We initialize weight matrices for both dense layers with a specific initialization scheme called glorot uniform"
   ]
  },
  {
   "cell_type": "code",
   "execution_count": 16,
   "metadata": {},
   "outputs": [],
   "source": [
    "inputs = Input(shape=(12,))\n",
    "\n",
    "x = Dense(8 , kernel_initializer='glorot_uniform' , activation='relu')(inputs)\n",
    "x = Dense(1,kernel_initializer=\"glorot_uniform\")(x)\n",
    "\n",
    "model = Model(inputs=[inputs],outputs=[x])\n",
    "model.compile(loss='mse',optimizer='adam')"
   ]
  },
  {
   "cell_type": "code",
   "execution_count": 17,
   "metadata": {
    "scrolled": true
   },
   "outputs": [
    {
     "name": "stdout",
     "output_type": "stream",
     "text": [
      "Train on 5303 samples, validate on 1326 samples\n",
      "Epoch 1/40\n",
      "5303/5303 [==============================] - 1s 103us/step - loss: 0.4337 - val_loss: 0.0593\n",
      "Epoch 2/40\n",
      "5303/5303 [==============================] - 0s 81us/step - loss: 0.0109 - val_loss: 0.0523\n",
      "Epoch 3/40\n",
      "5303/5303 [==============================] - 0s 81us/step - loss: 0.0041 - val_loss: 0.0364\n",
      "Epoch 4/40\n",
      "5303/5303 [==============================] - 0s 82us/step - loss: 0.0026 - val_loss: 0.0297\n",
      "Epoch 5/40\n",
      "5303/5303 [==============================] - 0s 81us/step - loss: 0.0018 - val_loss: 0.0255\n",
      "Epoch 6/40\n",
      "5303/5303 [==============================] - 0s 80us/step - loss: 0.0014 - val_loss: 0.0235\n",
      "Epoch 7/40\n",
      "5303/5303 [==============================] - 0s 80us/step - loss: 0.0010 - val_loss: 0.0217\n",
      "Epoch 8/40\n",
      "5303/5303 [==============================] - 0s 80us/step - loss: 8.2270e-04 - val_loss: 0.0198\n",
      "Epoch 9/40\n",
      "5303/5303 [==============================] - 0s 80us/step - loss: 6.8577e-04 - val_loss: 0.0182\n",
      "Epoch 10/40\n",
      "5303/5303 [==============================] - 0s 82us/step - loss: 5.5626e-04 - val_loss: 0.0162\n",
      "Epoch 11/40\n",
      "5303/5303 [==============================] - 0s 80us/step - loss: 4.6741e-04 - val_loss: 0.0150\n",
      "Epoch 12/40\n",
      "5303/5303 [==============================] - 0s 84us/step - loss: 3.9130e-04 - val_loss: 0.0139\n",
      "Epoch 13/40\n",
      "5303/5303 [==============================] - 0s 82us/step - loss: 3.5152e-04 - val_loss: 0.0123\n",
      "Epoch 14/40\n",
      "5303/5303 [==============================] - 0s 81us/step - loss: 3.0514e-04 - val_loss: 0.0110\n",
      "Epoch 15/40\n",
      "5303/5303 [==============================] - 0s 88us/step - loss: 2.9546e-04 - val_loss: 0.0112\n",
      "Epoch 16/40\n",
      "5303/5303 [==============================] - 0s 82us/step - loss: 2.7054e-04 - val_loss: 0.0089\n",
      "Epoch 17/40\n",
      "5303/5303 [==============================] - 0s 82us/step - loss: 2.6802e-04 - val_loss: 0.0086\n",
      "Epoch 18/40\n",
      "5303/5303 [==============================] - 0s 86us/step - loss: 2.2557e-04 - val_loss: 0.0072\n",
      "Epoch 19/40\n",
      "5303/5303 [==============================] - 0s 87us/step - loss: 2.3780e-04 - val_loss: 0.0066\n",
      "Epoch 20/40\n",
      "5303/5303 [==============================] - 0s 84us/step - loss: 1.9099e-04 - val_loss: 0.0060\n",
      "Epoch 21/40\n",
      "5303/5303 [==============================] - 0s 82us/step - loss: 2.4869e-04 - val_loss: 0.0056\n",
      "Epoch 22/40\n",
      "5303/5303 [==============================] - 0s 85us/step - loss: 1.5013e-04 - val_loss: 0.0048\n",
      "Epoch 23/40\n",
      "5303/5303 [==============================] - 0s 84us/step - loss: 1.4076e-04 - val_loss: 0.0046\n",
      "Epoch 24/40\n",
      "5303/5303 [==============================] - 0s 81us/step - loss: 1.4768e-04 - val_loss: 0.0043\n",
      "Epoch 25/40\n",
      "5303/5303 [==============================] - 0s 84us/step - loss: 1.4074e-04 - val_loss: 0.0043\n",
      "Epoch 26/40\n",
      "5303/5303 [==============================] - 0s 81us/step - loss: 1.3025e-04 - val_loss: 0.0034\n",
      "Epoch 27/40\n",
      "5303/5303 [==============================] - 0s 85us/step - loss: 1.2653e-04 - val_loss: 0.0035\n",
      "Epoch 28/40\n",
      "5303/5303 [==============================] - 0s 82us/step - loss: 1.1811e-04 - val_loss: 0.0029\n",
      "Epoch 29/40\n",
      "5303/5303 [==============================] - 0s 86us/step - loss: 1.6159e-04 - val_loss: 0.0034\n",
      "Epoch 30/40\n",
      "5303/5303 [==============================] - 1s 95us/step - loss: 1.1460e-04 - val_loss: 0.0028\n",
      "Epoch 31/40\n",
      "5303/5303 [==============================] - 0s 87us/step - loss: 1.0155e-04 - val_loss: 0.0023e-0\n",
      "Epoch 32/40\n",
      "5303/5303 [==============================] - 0s 90us/step - loss: 1.0812e-04 - val_loss: 0.0025\n",
      "Epoch 33/40\n",
      "5303/5303 [==============================] - 0s 85us/step - loss: 1.3157e-04 - val_loss: 0.0027\n",
      "Epoch 34/40\n",
      "5303/5303 [==============================] - 0s 82us/step - loss: 9.2227e-05 - val_loss: 0.0022\n",
      "Epoch 35/40\n",
      "5303/5303 [==============================] - 0s 90us/step - loss: 9.6751e-05 - val_loss: 0.0024\n",
      "Epoch 36/40\n",
      "5303/5303 [==============================] - 1s 96us/step - loss: 9.5981e-05 - val_loss: 0.0020\n",
      "Epoch 37/40\n",
      "5303/5303 [==============================] - 0s 84us/step - loss: 1.1782e-04 - val_loss: 0.0018\n",
      "Epoch 38/40\n",
      "5303/5303 [==============================] - 0s 83us/step - loss: 9.9988e-05 - val_loss: 0.0020\n",
      "Epoch 39/40\n",
      "5303/5303 [==============================] - 0s 87us/step - loss: 8.8521e-05 - val_loss: 0.0021\n",
      "Epoch 40/40\n",
      "5303/5303 [==============================] - 0s 85us/step - loss: 9.6240e-05 - val_loss: 0.0019\n"
     ]
    }
   ],
   "source": [
    "epochs   = 40\n",
    "Batch_size = 10\n",
    "\n",
    "train = model.fit(x_train,y_train,\n",
    "                  batch_size=Batch_size , epochs=epochs,validation_split=.2)"
   ]
  },
  {
   "cell_type": "code",
   "execution_count": 18,
   "metadata": {},
   "outputs": [],
   "source": [
    "y_tested = model.predict(x_test).flatten()"
   ]
  },
  {
   "cell_type": "code",
   "execution_count": 19,
   "metadata": {},
   "outputs": [
    {
     "name": "stdout",
     "output_type": "stream",
     "text": [
      "Benzene Conc. expected: 11.600, predicted: 11.609\n",
      "Benzene Conc. expected: 11.700, predicted: 11.712\n",
      "Benzene Conc. expected: 11.300, predicted: 11.284\n",
      "Benzene Conc. expected: 10.400, predicted: 10.287\n",
      "Benzene Conc. expected: 6.400, predicted: 4.190\n",
      "Benzene Conc. expected: 9.800, predicted: 9.191\n",
      "Benzene Conc. expected: 5.800, predicted: 2.044\n",
      "Benzene Conc. expected: 7.000, predicted: 2.549\n",
      "Benzene Conc. expected: 4.000, predicted: -0.567\n",
      "Benzene Conc. expected: 6.900, predicted: 2.362\n"
     ]
    }
   ],
   "source": [
    "\n",
    "for i in range(10):\n",
    "        label = (y_test[i] * dataset_std[3]) + dataset_mean[3]\n",
    "        prediction = (y_tested[i] * dataset_std[3]) + dataset_mean[3]\n",
    "        print(\"Benzene Conc. expected: {:.3f}, predicted: {:.3f}\".format(label,prediction))"
   ]
  },
  {
   "cell_type": "code",
   "execution_count": 36,
   "metadata": {},
   "outputs": [
    {
     "data": {
      "image/png": "[encoded data removed]",
      "text/plain": [
       "<Figure size 432x288 with 1 Axes>"
      ]
     },
     "metadata": {},
     "output_type": "display_data"
    }
   ],
   "source": [
    "plt.plot(np.arange(y_test.shape[0]), (y_test * dataset_std[3]) / dataset_mean[3],\n",
    "       color=\"b\", label=\"actual\")\n",
    "plt.plot(np.arange(y_test.shape[0]), (y_test * dataset_std[3]) / dataset_mean[3],\n",
    "       color=\"r\", alpha=.9, label=\"predicted\")\n",
    "plt.xlabel(\"time\")\n",
    "plt.ylabel(\"C6H6 concentrations\")\n",
    "plt.legend(loc=\"best\")\n",
    "plt.show()"
   ]
  },
  {
   "cell_type": "code",
   "execution_count": null,
   "metadata": {},
   "outputs": [],
   "source": []
  }
 ],
 "metadata": {
  "kernelspec": {
   "display_name": "Python 2",
   "language": "python",
   "name": "python2"
  },
  "language_info": {
   "codemirror_mode": {
    "name": "ipython",
    "version": 2
   },
   "file_extension": ".py",
   "mimetype": "text/x-python",
   "name": "python",
   "nbconvert_exporter": "python",
   "pygments_lexer": "ipython2",
   "version": "2.7.15"
  }
 },
 "nbformat": 4,
 "nbformat_minor": 2
}
